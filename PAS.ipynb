{
 "cells": [
  {
   "cell_type": "markdown",
   "id": "9329219d-0eaa-4378-861b-93acc99a59b6",
   "metadata": {},
   "source": [
    "# import libraries and dataset\n",
    "the dataset used here are [crop_recommendation.csv](https://www.kaggle.com/datasets/atharvaingle/crop-recommendation-dataset)\n",
    "and the modefied dataset of [Urban_Areas.csv](https://www.kaggle.com/datasets/thedevastator/urban-areas-dataset)"
   ]
  },
  {
   "cell_type": "code",
   "execution_count": 3,
   "id": "5f9cf1b7-ca86-4d0c-8377-4beb24d2d77e",
   "metadata": {},
   "outputs": [
    {
     "name": "stdout",
     "output_type": "stream",
     "text": [
      "Urban Data:\n",
      "    Zone_ID   Latitude  Longitude      Area    N   P   K  Temperature  \\\n",
      "0     2001  33.525411 -91.438467   5064930  101  73  41    34.214295   \n",
      "1     2002  35.612144 -91.262068  11738347  142  28  55    21.409738   \n",
      "2     2003  36.063002 -90.965963   9595023   64  56  66    34.925936   \n",
      "3     2004  33.622119 -91.793763  25182217  121  68  77    31.911024   \n",
      "4     2005  30.129085 -91.835324  12639297  110  60  62    27.219190   \n",
      "\n",
      "    Humidity    Rainfall        pH  \n",
      "0  58.613983  288.598308  7.979513  \n",
      "1  45.407538  260.468752  6.275308  \n",
      "2  52.579948  397.327744  5.527830  \n",
      "3  53.598255  254.397465  6.415805  \n",
      "4  76.033393  298.008041  5.705615  \n",
      "\n",
      "Crop Data:\n",
      "     N   P   K  temperature   humidity        ph    rainfall label\n",
      "0  90  42  43    20.879744  82.002744  6.502985  202.935536  rice\n",
      "1  85  58  41    21.770462  80.319644  7.038096  226.655537  rice\n",
      "2  60  55  44    23.004459  82.320763  7.840207  263.964248  rice\n",
      "3  74  35  40    26.491096  80.158363  6.980401  242.864034  rice\n",
      "4  78  42  42    20.130175  81.604873  7.628473  262.717340  rice\n"
     ]
    }
   ],
   "source": [
    "import pandas as pd\n",
    "import numpy as np\n",
    "\n",
    "# Load datasets\n",
    "urban_df = pd.read_csv('Cleaned_Urban_Areas.csv')  # Cleaned Urban Areas dataset\n",
    "crop_df = pd.read_csv('crop_recommendation.csv')  # Crop Recommendation dataset\n",
    "\n",
    "# Display the first few rows to verify data\n",
    "print(\"Urban Data:\\n\", urban_df.head())\n",
    "print(\"\\nCrop Data:\\n\", crop_df.head())"
   ]
  },
  {
   "cell_type": "markdown",
   "id": "5bed3431-36f4-42c4-bb86-fc99ff04a2e7",
   "metadata": {},
   "source": [
    "# Define AVL tree class"
   ]
  },
  {
   "cell_type": "code",
   "execution_count": 6,
   "id": "e236442d-fded-4f25-9f43-b14b2a128900",
   "metadata": {},
   "outputs": [],
   "source": [
    "class Node:\n",
    "    def __init__(self, key, zone_data):\n",
    "        self.key = key\n",
    "        self.zone_data = zone_data\n",
    "        self.left = None\n",
    "        self.right = None\n",
    "        self.height = 1\n",
    "\n",
    "class AVLTree:\n",
    "    def get_height(self, root):\n",
    "        if not root:\n",
    "            return 0\n",
    "        return root.height\n",
    "    \n",
    "    def get_balance(self, root):\n",
    "        if not root:\n",
    "            return 0\n",
    "        return self.get_height(root.left) - self.get_height(root.right)\n",
    "    \n",
    "    def right_rotate(self, z):\n",
    "        y = z.left\n",
    "        T3 = y.right\n",
    "        y.right = z\n",
    "        z.left = T3\n",
    "        z.height = 1 + max(self.get_height(z.left), self.get_height(z.right))\n",
    "        y.height = 1 + max(self.get_height(y.left), self.get_height(y.right))\n",
    "        return y\n",
    "    \n",
    "    def left_rotate(self, z):\n",
    "        y = z.right\n",
    "        T2 = y.left\n",
    "        y.left = z\n",
    "        z.right = T2\n",
    "        z.height = 1 + max(self.get_height(z.left), self.get_height(z.right))\n",
    "        y.height = 1 + max(self.get_height(y.left), self.get_height(y.right))\n",
    "        return y\n",
    "    \n",
    "    def insert(self, root, key, zone_data):\n",
    "        if not root:\n",
    "            return Node(key, zone_data)\n",
    "        if key < root.key:\n",
    "            root.left = self.insert(root.left, key, zone_data)\n",
    "        elif key > root.key:\n",
    "            root.right = self.insert(root.right, key, zone_data)\n",
    "        else:\n",
    "            return root\n",
    "        \n",
    "        root.height = 1 + max(self.get_height(root.left), self.get_height(root.right))\n",
    "        balance = self.get_balance(root)\n",
    "        \n",
    "        # Left Heavy\n",
    "        if balance > 1 and key < root.left.key:\n",
    "            return self.right_rotate(root)\n",
    "        # Right Heavy\n",
    "        if balance < -1 and key > root.right.key:\n",
    "            return self.left_rotate(root)\n",
    "        # Left-Right Case\n",
    "        if balance > 1 and key > root.left.key:\n",
    "            root.left = self.left_rotate(root.left)\n",
    "            return self.right_rotate(root)\n",
    "        # Right-Left Case\n",
    "        if balance < -1 and key < root.right.key:\n",
    "            root.right = self.right_rotate(root.right)\n",
    "            return self.left_rotate(root)\n",
    "        \n",
    "        return root\n",
    "    \n",
    "    def find_zone(self, root, key):\n",
    "        if not root:\n",
    "            return None\n",
    "        if key == root.key:\n",
    "            return root\n",
    "        elif key < root.key:\n",
    "            return self.find_zone(root.left, key)\n",
    "        else:\n",
    "            return self.find_zone(root.right, key)"
   ]
  },
  {
   "cell_type": "markdown",
   "id": "5bbbffd6-9097-4178-b1e8-cab1ef5bfa87",
   "metadata": {},
   "source": [
    "# Insert data into the AVL tree"
   ]
  },
  {
   "cell_type": "code",
   "execution_count": 9,
   "id": "fbabbba2-5e6b-484b-becb-b8bdd42f8121",
   "metadata": {},
   "outputs": [
    {
     "name": "stdout",
     "output_type": "stream",
     "text": [
      "AVL Tree Loaded with Field Zones ✅\n"
     ]
    }
   ],
   "source": [
    "# Initialize AVL Tree\n",
    "zones = AVLTree()\n",
    "root = None\n",
    "\n",
    "# Map Urban dataset to AVL Tree\n",
    "for index, row in urban_df.iterrows():\n",
    "    zone_data = {\n",
    "        'latitude': row['Latitude'],\n",
    "        'longitude': row['Longitude'],\n",
    "        'area': row['Area'],\n",
    "        'N': row['N'],\n",
    "        'P': row['P'],\n",
    "        'K': row['K'],\n",
    "        'temperature': row['Temperature'],\n",
    "        'humidity': row['Humidity'],\n",
    "        'rainfall': row['Rainfall'],\n",
    "        'pH': row['pH']\n",
    "    }\n",
    "    root = zones.insert(root, row['Zone_ID'], zone_data)\n",
    "\n",
    "print(\"AVL Tree Loaded with Field Zones ✅\")"
   ]
  },
  {
   "cell_type": "markdown",
   "id": "5cc06dee-e33d-40b8-b578-338b218ac6a9",
   "metadata": {},
   "source": [
    "# Load Crop Recommendation Dataset into Multi-Dimensional Array"
   ]
  },
  {
   "cell_type": "code",
   "execution_count": 12,
   "id": "5e08206f-a3ae-4283-bc4c-9f4104468956",
   "metadata": {},
   "outputs": [
    {
     "name": "stdout",
     "output_type": "stream",
     "text": [
      "\n",
      "Example Crop Data:\n",
      "['rice' 90 42 43 20.87974371 82.00274423 6.502985292000001]\n",
      "['rice' 85 58 41 21.77046169 80.31964408 7.038096361]\n",
      "['rice' 60 55 44 23.00445915 82.3207629 7.840207144]\n",
      "['rice' 74 35 40 26.49109635 80.15836264 6.980400905]\n",
      "['rice' 78 42 42 20.13017482 81.60487287 7.628472891]\n"
     ]
    }
   ],
   "source": [
    "# Load Crop Recommendation into Multi-Dimensional Array\n",
    "crop_data = crop_df[['label', 'N', 'P', 'K', 'temperature', 'humidity', 'ph']].values\n",
    "\n",
    "# Show example crop data\n",
    "print(\"\\nExample Crop Data:\")\n",
    "for row in crop_data[:5]:\n",
    "    print(row)"
   ]
  },
  {
   "cell_type": "markdown",
   "id": "59eba6c6-4020-4630-b807-ada933c9de99",
   "metadata": {},
   "source": [
    "# Define get_health() function"
   ]
  },
  {
   "cell_type": "code",
   "execution_count": 25,
   "id": "009adf09-e0f0-4c04-96f3-31ed32814577",
   "metadata": {},
   "outputs": [],
   "source": [
    "def get_health(crop, zone_id):\n",
    "    node = zones.find_zone(root, zone_id)\n",
    "    if not node:\n",
    "        return f\"Zone {zone_id} not found.\"\n",
    "    \n",
    "    zone = node.zone_data\n",
    "    \n",
    "    # Get ideal crop values\n",
    "    crop_ideal = None\n",
    "    for row in crop_data:\n",
    "        if row[0].lower() == crop.lower():\n",
    "            crop_ideal = row\n",
    "            break\n",
    "    \n",
    "    if crop_ideal is None:\n",
    "        return f\"{crop} data not found in crop recommendation dataset.\"\n",
    "    \n",
    "    issues = []\n",
    "    \n",
    "    # NPK Comparison\n",
    "    if not (crop_ideal[1] - 10 <= zone['N'] <= crop_ideal[1] + 10):\n",
    "        issues.append(f\"N value mismatch (Expected: {crop_ideal[1]}±10, Found: {zone['N']})\")\n",
    "    if not (crop_ideal[2] - 10 <= zone['P'] <= crop_ideal[2] + 10):\n",
    "        issues.append(f\"P value mismatch (Expected: {crop_ideal[2]}±10, Found: {zone['P']})\")\n",
    "    if not (crop_ideal[3] - 10 <= zone['K'] <= crop_ideal[3] + 10):\n",
    "        issues.append(f\"K value mismatch (Expected: {crop_ideal[3]}±10, Found: {zone['K']})\")\n",
    "    \n",
    "    # Temperature Comparison\n",
    "    if not (crop_ideal[4] - 20 <= zone['temperature'] <= crop_ideal[4] + 20):\n",
    "        issues.append(f\"Temperature mismatch (Expected: {crop_ideal[4]}±20°C, Found: {zone['temperature']}°C)\")\n",
    "    \n",
    "    # Humidity Comparison\n",
    "    if not (crop_ideal[5] - 26 <= zone['humidity'] <= crop_ideal[5] + 26):\n",
    "        issues.append(f\"Humidity mismatch (Expected: {crop_ideal[5]}±26%, Found: {zone['humidity']}%)\")\n",
    "    \n",
    "    # pH Comparison\n",
    "    if not (crop_ideal[6] - 5 <= zone['pH'] <= crop_ideal[6] + 5):\n",
    "        issues.append(f\"pH mismatch (Expected: {crop_ideal[6]}±5, Found: {zone['pH']})\")\n",
    "    \n",
    "    if issues:\n",
    "        result = f\"Zone {zone_id} is NOT suitable for growing {crop}.\\nReasons:\\n- \" + \"\\n- \".join(issues)\n",
    "    else:\n",
    "        result = f\"Zone {zone_id} is SUITABLE for growing {crop}.\"\n",
    "    \n",
    "    return result"
   ]
  },
  {
   "cell_type": "markdown",
   "id": "0a7db3ff-f2e6-4da6-8903-77209f74ce8a",
   "metadata": {},
   "source": [
    "# Testing the code"
   ]
  },
  {
   "cell_type": "code",
   "execution_count": 28,
   "id": "d26a0d97-ed08-40eb-b1c8-297cd2af58c5",
   "metadata": {},
   "outputs": [
    {
     "name": "stdout",
     "output_type": "stream",
     "text": [
      "Zone 2003 is NOT suitable for growing rice.\n",
      "Reasons:\n",
      "- N value mismatch (Expected: 90±10, Found: 64.0)\n",
      "- P value mismatch (Expected: 42±10, Found: 56.0)\n",
      "- K value mismatch (Expected: 43±10, Found: 66.0)\n",
      "- Humidity mismatch (Expected: 82.00274423±26%, Found: 52.57994848824126%)\n",
      "wheat data not found in crop recommendation dataset.\n",
      "Zone 2001 is NOT suitable for growing maize.\n",
      "Reasons:\n",
      "- N value mismatch (Expected: 71±10, Found: 101.0)\n",
      "- P value mismatch (Expected: 54±10, Found: 73.0)\n",
      "- K value mismatch (Expected: 16±10, Found: 41.0)\n"
     ]
    }
   ],
   "source": [
    "# Test Cases\n",
    "print(get_health('rice', 2003))   # Example for rice\n",
    "print(get_health('wheat', 2001))  # Example for wheat\n",
    "print(get_health('maize', 2001))  # Example for maize"
   ]
  },
  {
   "cell_type": "code",
   "execution_count": null,
   "id": "edcc99fd-385c-4c03-8b28-e4699e9f3e75",
   "metadata": {},
   "outputs": [],
   "source": []
  }
 ],
 "metadata": {
  "kernelspec": {
   "display_name": "Python [conda env:base] *",
   "language": "python",
   "name": "conda-base-py"
  },
  "language_info": {
   "codemirror_mode": {
    "name": "ipython",
    "version": 3
   },
   "file_extension": ".py",
   "mimetype": "text/x-python",
   "name": "python",
   "nbconvert_exporter": "python",
   "pygments_lexer": "ipython3",
   "version": "3.12.3"
  }
 },
 "nbformat": 4,
 "nbformat_minor": 5
}
